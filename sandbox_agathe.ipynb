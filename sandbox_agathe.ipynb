{
 "cells": [
  {
   "cell_type": "code",
   "execution_count": 1,
   "metadata": {},
   "outputs": [
    {
     "data": {
      "text/plain": [
       "read_file (generic function with 1 method)"
      ]
     },
     "metadata": {},
     "output_type": "display_data"
    }
   ],
   "source": [
    "function string_to_array(string_array)\n",
    "    string_array = replace(string_array, \"[\" => \"\")\n",
    "    string_array = replace(string_array, \"]\" => \"\")\n",
    "    sous_chaines = split(string_array, \",\")\n",
    "\n",
    "    return parse.(Int, sous_chaines)\n",
    "end\n",
    "\n",
    "function string_d_to_array(string_array)\n",
    "    string_array = replace(string_array, \";\" => \"\")\n",
    "    string_array = replace(string_array, \"]\" => \"\")\n",
    "    sous_chaines = split(string_array, \" \")\n",
    "\n",
    "    return parse.(Float64, sous_chaines)\n",
    "end\n",
    "\n",
    "function read_file(file)\n",
    "    if isfile(file)\n",
    "        myFile = open(file)\n",
    "        data = readlines(myFile)\n",
    "        n = parse(Int64, data[1][5:end])\n",
    "        s = parse(Int64, data[2][5:end])\n",
    "        t = parse(Int64, data[3][5:end])\n",
    "        S = parse(Int64, data[4][5:end])\n",
    "        d1 = parse(Int64, data[5][5:end])\n",
    "        d2 = parse(Int64, data[6][5:end])\n",
    "\n",
    "        p= string_to_array(data[7][5:end])\n",
    "        ph = string_to_array(data[8][5:end])\n",
    "\n",
    "        d=Dict()\n",
    "        D=Dict()\n",
    "        for line in data[10:end]\n",
    "            array_line=string_d_to_array(line)\n",
    "            i = Int(array_line[1])\n",
    "            j = Int(array_line[2])\n",
    "            d[i,j]=Int(array_line[3])\n",
    "            D[i,j]=array_line[4]\n",
    "        end\n",
    "        # Fermer le fichier\n",
    "        close(myFile)\n",
    "        return n, s, t, S, d1, d2, p, ph, d, D\n",
    "    end\n",
    "end"
   ]
  },
  {
   "cell_type": "code",
   "execution_count": 2,
   "metadata": {},
   "outputs": [
    {
     "data": {
      "text/plain": [
       "(20, 12, 15, 64, 2, 5, [13, 8, 5, 5, 6, 9, 6, 13, 10, 8, 10, 7, 13, 7, 7, 11, 8, 13, 5, 5], [1, 1, 1, 1, 1, 2, 1, 1, 4, 1, 3, 4, 1, 1, 4, 4, 1, 1, 1, 1], Dict{Any, Any}((18, 16) => 2851, (16, 14) => 1527, (11, 18) => 1998, (11, 8) => 1998, (20, 13) => 1861, (15, 11) => 1309, (17, 15) => 1309, (7, 1) => 3101, (13, 6) => 1998, (19, 13) => 1193…), Dict{Any, Any}((18, 16) => 0.67, (16, 14) => 0.36, (11, 18) => 0.47, (11, 8) => 0.47, (20, 13) => 0.44, (15, 11) => 0.31, (17, 15) => 0.31, (7, 1) => 0.73, (13, 6) => 0.47, (19, 13) => 0.28…))"
      ]
     },
     "metadata": {},
     "output_type": "display_data"
    }
   ],
   "source": [
    "n, s, t, S, d1, d2, p, ph, d, D = read_file(\"./data/20_USA-road-d.COL.gr\")"
   ]
  },
  {
   "cell_type": "code",
   "execution_count": 3,
   "metadata": {},
   "outputs": [
    {
     "data": {
      "text/plain": [
       "isIntegerPoint (generic function with 1 method)"
      ]
     },
     "metadata": {},
     "output_type": "display_data"
    }
   ],
   "source": [
    "include(\"plans_coupants.jl\")"
   ]
  },
  {
   "cell_type": "code",
   "execution_count": 4,
   "metadata": {},
   "outputs": [
    {
     "name": "stdout",
     "output_type": "stream",
     "text": [
      "current z* = 0.0\n",
      "Ajout d'une contrainte de type 23"
     ]
    },
    {
     "name": "stdout",
     "output_type": "stream",
     "text": [
      "\n",
      "solution SP1 "
     ]
    },
    {
     "name": "stdout",
     "output_type": "stream",
     "text": [
      "41069.0\n",
      "Ajout d'une contrainte de type 24\n",
      "current z* = 0.0\n",
      "Ajout d'une contrainte de type 23\n",
      "solution SP1 41069.0\n",
      "Ajout d'une contrainte de type 24\n",
      "current z* = 0.0\n",
      "Ajout d'une contrainte de type 23\n",
      "solution SP1 41069.0\n",
      "Ajout d'une contrainte de type 24\n",
      "current z* = 0.0\n",
      "Ajout d'une contrainte de type 23\n",
      "solution SP1 41069.0\n",
      "Ajout d'une contrainte de type 24\n",
      "current z* = 0.0\n",
      "solution SP1 "
     ]
    },
    {
     "name": "stdout",
     "output_type": "stream",
     "text": [
      "12992.0\n",
      "Ajout d'une contrainte de type 24\n",
      "current z* = 5357.0\n",
      "solution SP1 8411.0\n",
      "Ajout d'une contrainte de type 24\n",
      "current z* = 5357.0\n",
      "solution SP1 8411.0\n",
      "Ajout d'une contrainte de type 24\n",
      "current z* = 5357.0\n",
      "Ajout d'une contrainte de type 23\n",
      "solution SP1 8411.0\n",
      "Ajout d'une contrainte de type 24\n",
      "current z* = 5357.0\n",
      "solution SP1 8411.0\n",
      "Ajout d'une contrainte de type 24\n",
      "current z* = 5357.0\n",
      "solution SP1 8411.0\n",
      "Ajout d'une contrainte de type 24\n",
      "current z* = 5357.0\n",
      "solution SP1 8411.0\n",
      "Ajout d'une contrainte de type 24\n",
      "current z* = 7290.000000000001\n",
      "Ajout d'une contrainte de type 23\n",
      "solution SP1 12992.0\n",
      "Ajout d'une contrainte de type 24\n",
      "current z* = 7290.000000000001\n",
      "Ajout d'une contrainte de type 23\n",
      "solution SP1 12992.0\n",
      "Ajout d'une contrainte de type 24\n",
      "current z* = 8411.0\n",
      "current z* = 7290.0\n"
     ]
    },
    {
     "name": "stdout",
     "output_type": "stream",
     "text": [
      "solution SP1 12992.0\n",
      "Ajout d'une contrainte de type 24\n",
      "current z* = 7290.0\n",
      "solution SP1 12992.0\n",
      "Ajout d'une contrainte de type 24\n",
      "current z* = 7290.0\n",
      "solution SP1 12992.0\n",
      "Ajout d'une contrainte de type 24\n",
      "current z* = 7290.000000000001\n",
      "solution SP1 12992.0\n",
      "Ajout d'une contrainte de type 24\n",
      "current z* = 7290.0\n",
      "solution SP1 12992.0\n",
      "Ajout d'une contrainte de type 24\n",
      "current z* = 7290.0\n",
      "solution SP1 12992.0\n",
      "Ajout d'une contrainte de type 24\n",
      "current z* = 7290.0\n",
      "solution SP1 12992.0\n",
      "Ajout d'une contrainte de type 24\n",
      "current z* = 7290.000000000001\n",
      "solution SP1 12992.0\n",
      "Ajout d'une contrainte de type 24\n",
      "FEASIBLE_POINT"
     ]
    },
    {
     "name": "stdout",
     "output_type": "stream",
     "text": [
      "\n",
      "OPTIMAL\n",
      "Valeur de l’objectif : 8411.0\n"
     ]
    },
    {
     "data": {
      "text/plain": [
       "(  [10, 14]  =  1.0\n",
       "  [11, 1 ]  =  -0.0\n",
       "  [11, 18]  =  -0.0\n",
       "  [11, 8 ]  =  -0.0\n",
       "  [12, 10]  =  1.0\n",
       "  [12, 2 ]  =  0.0\n",
       "  [15, 11]  =  -0.0\n",
       "  [16, 13]  =  -0.0\n",
       "            ⋮\n",
       "  [16, 14]  =  -0.0\n",
       "  [17, 15]  =  -0.0\n",
       "  [18, 16]  =  -0.0\n",
       "  [18, 20]  =  -0.0\n",
       "  [18, 4 ]  =  -0.0\n",
       "  [2, 14 ]  =  0.0\n",
       "  [20, 13]  =  -0.0, [-0.0, 0.0, -0.0, -0.0, -0.0, 0.0, -0.0, -0.0, 0.0, 1.0, 1.0, 1.0, -0.0, 1.0, 1.0, 0.0, 0.0, -0.0, -0.0, -0.0])"
      ]
     },
     "metadata": {},
     "output_type": "display_data"
    }
   ],
   "source": [
    "results=plans_coupants(n, s, t, S, d1, d2, p, ph, d, D, 60)"
   ]
  }
 ],
 "metadata": {
  "kernelspec": {
   "display_name": "Julia 1.10.0",
   "language": "julia",
   "name": "julia-1.10"
  },
  "language_info": {
   "file_extension": ".jl",
   "mimetype": "application/julia",
   "name": "julia",
   "version": "1.10.0"
  }
 },
 "nbformat": 4,
 "nbformat_minor": 2
}
