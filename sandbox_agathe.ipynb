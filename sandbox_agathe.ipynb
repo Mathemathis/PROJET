{
 "cells": [
  {
   "cell_type": "code",
   "execution_count": 10,
   "metadata": {},
   "outputs": [
    {
     "data": {
      "text/plain": [
       "read_file (generic function with 1 method)"
      ]
     },
     "execution_count": 10,
     "metadata": {},
     "output_type": "execute_result"
    }
   ],
   "source": [
    "function string_to_array(string_array)\n",
    "    string_array = replace(string_array, \"[\" => \"\")\n",
    "    string_array = replace(string_array, \"]\" => \"\")\n",
    "    sous_chaines = split(string_array, \",\")\n",
    "\n",
    "    return parse.(Int, sous_chaines)\n",
    "end\n",
    "\n",
    "function string_d_to_array(string_array)\n",
    "    string_array = replace(string_array, \";\" => \"\")\n",
    "    string_array = replace(string_array, \"]\" => \"\")\n",
    "    sous_chaines = split(string_array, \" \")\n",
    "\n",
    "    return parse.(Float64, sous_chaines)\n",
    "end\n",
    "\n",
    "function read_file(file)\n",
    "    if isfile(file)\n",
    "        myFile = open(file)\n",
    "        data = readlines(myFile)\n",
    "        n = parse(Int64, data[1][5:end])\n",
    "        s = parse(Int64, data[2][5:end])\n",
    "        t = parse(Int64, data[3][5:end])\n",
    "        S = parse(Int64, data[4][5:end])\n",
    "        d1 = parse(Int64, data[5][5:end])\n",
    "        d2 = parse(Int64, data[6][5:end])\n",
    "\n",
    "        p= string_to_array(data[7][5:end])\n",
    "        ph = string_to_array(data[8][5:end])\n",
    "\n",
    "        d=Dict()\n",
    "        D=Dict()\n",
    "        for line in data[10:end]\n",
    "            array_line=string_d_to_array(line)\n",
    "            i = Int(array_line[1])\n",
    "            j = Int(array_line[2])            \n",
    "            d[i,j]=Int(array_line[3])\n",
    "            D[i,j]=array_line[4]\n",
    "        end\n",
    "        # Fermer le fichier\n",
    "        close(myFile)\n",
    "        return n, s, t, S, d1, d2, p, ph, d, D\n",
    "    end\n",
    "end"
   ]
  },
  {
   "cell_type": "code",
   "execution_count": 19,
   "metadata": {},
   "outputs": [
    {
     "data": {
      "text/plain": [
       "(250, 147, 239, 264, 2, 5, [67, 40, 37, 28, 18, 41, 48, 67, 39, 41  …  4, 3, 37, 9, 5, 10, 3, 3, 17, 8], [1, 1, 1, 1, 1, 1, 1, 1, 1, 1  …  1, 1, 1, 1, 1, 1, 1, 1, 1, 1], Dict{Any, Any}((92, 185) => 859, (57, 181) => 839, (54, 250) => 1257, (12, 156) => 839, (30, 68) => 859, (22, 9) => 1188, (168, 163) => 1680, (107, 3) => 3862, (136, 249) => 2780, (23, 192) => 2738…), Dict{Any, Any}((92, 185) => 0.07, (57, 181) => 0.07, (54, 250) => 0.21, (12, 156) => 0.07, (30, 68) => 0.07, (22, 9) => 0.1, (168, 163) => 0.14, (107, 3) => 0.32, (136, 249) => 0.23, (23, 192) => 0.23…))"
      ]
     },
     "execution_count": 19,
     "metadata": {},
     "output_type": "execute_result"
    }
   ],
   "source": [
    "name_instance=\"250_USA-road-d.NY.gr\"\n",
    "n, s, t, S, d1, d2, p, ph, d, D = read_file(\"./data/$name_instance\")"
   ]
  },
  {
   "cell_type": "code",
   "execution_count": 20,
   "metadata": {},
   "outputs": [
    {
     "data": {
      "text/plain": [
       "(  [102, 106]  =  -0.0\n",
       "  [107, 3  ]  =  -0.0\n",
       "  [113, 162]  =  -0.0\n",
       "  [113, 88 ]  =  -0.0\n",
       "  [12, 156 ]  =  -0.0\n",
       "  [136, 249]  =  -0.0\n",
       "  [152, 28 ]  =  -0.0\n",
       "  [156, 63 ]  =  -0.0\n",
       "  [168, 124]  =  -0.0\n",
       "  [168, 163]  =  -0.0\n",
       "  [180, 33 ]  =  -0.0\n",
       "              ⋮\n",
       "  [22, 9   ]  =  -0.0\n",
       "  [23, 192 ]  =  -0.0\n",
       "  [27, 198 ]  =  -0.0\n",
       "  [30, 68  ]  =  -0.0\n",
       "  [53, 171 ]  =  -0.0\n",
       "  [54, 250 ]  =  -0.0\n",
       "  [57, 181 ]  =  -0.0\n",
       "  [6, 101  ]  =  -0.0\n",
       "  [7, 16   ]  =  -0.0\n",
       "  [92, 185 ]  =  -0.0, [0.0, 0.0, 0.0, 0.0, 0.0, 0.0, 0.0, 0.0, 0.0, 0.0  …  0.0, 0.0, 0.0, 0.0, 0.0, 0.0, 0.0, 0.0, 0.0, 0.0])"
      ]
     },
     "execution_count": 20,
     "metadata": {},
     "output_type": "execute_result"
    }
   ],
   "source": [
    "include(\"PLNE_compacte.jl\")\n",
    "plne_compacte(n, s, t, S, p, d, name_instance, \"No\", 60)"
   ]
  },
  {
   "cell_type": "code",
   "execution_count": 24,
   "metadata": {},
   "outputs": [
    {
     "data": {
      "text/plain": [
       "(  [102, 106]  =  -0.0\n",
       "  [107, 3  ]  =  -0.0\n",
       "  [113, 162]  =  -0.0\n",
       "  [113, 88 ]  =  -0.0\n",
       "  [12, 156 ]  =  0.0\n",
       "  [136, 249]  =  -0.0\n",
       "  [152, 28 ]  =  -0.0\n",
       "  [156, 63 ]  =  -0.0\n",
       "  [168, 124]  =  -0.0\n",
       "  [168, 163]  =  -0.0\n",
       "  [180, 33 ]  =  -0.0\n",
       "              ⋮\n",
       "  [22, 9   ]  =  -0.0\n",
       "  [23, 192 ]  =  -0.0\n",
       "  [27, 198 ]  =  -0.0\n",
       "  [30, 68  ]  =  -0.0\n",
       "  [53, 171 ]  =  -0.0\n",
       "  [54, 250 ]  =  -0.0\n",
       "  [57, 181 ]  =  0.0\n",
       "  [6, 101  ]  =  -0.0\n",
       "  [7, 16   ]  =  -0.0\n",
       "  [92, 185 ]  =  -0.0, [0.0, -0.0, 0.0, 0.0, 0.0, 0.0, 0.0, 0.0, 0.0, 0.0  …  0.0, 0.0, 0.0, 0.0, 0.0, 0.0, 0.0, 0.0, 0.0, 0.0], [0.0, 0.0, 0.0, 0.0, 0.0, 0.0, 0.0, 0.0, 0.0, 0.0  …  0.0, 0.0, 0.0, 0.0, 0.0, 0.0, 0.0, 0.0, 0.0, 0.0], 1.5714285714285714)"
      ]
     },
     "execution_count": 24,
     "metadata": {},
     "output_type": "execute_result"
    }
   ],
   "source": [
    "include(\"PLNE_dual.jl\")\n",
    "results_dual=plne_dual(n, s, t, S, d1, d2, p, ph, d, D, name_instance, \"No\", \"No\", \"No\", 60)"
   ]
  },
  {
   "cell_type": "code",
   "execution_count": 38,
   "metadata": {},
   "outputs": [
    {
     "data": {
      "text/plain": [
       "isIntegerPoint (generic function with 1 method)"
      ]
     },
     "execution_count": 38,
     "metadata": {},
     "output_type": "execute_result"
    }
   ],
   "source": [
    "include(\"plans_coupants.jl\")"
   ]
  },
  {
   "cell_type": "code",
   "execution_count": 39,
   "metadata": {},
   "outputs": [],
   "source": [
    "results_ALG=plans_coupantsALG(n, s, t, S, d1, d2, p, ph, d, D, name_instance, \"var_y\", \"var_eps\", 20)"
   ]
  }
 ],
 "metadata": {
  "kernelspec": {
   "display_name": "Julia 1.9.3",
   "language": "julia",
   "name": "julia-1.9"
  },
  "language_info": {
   "file_extension": ".jl",
   "mimetype": "application/julia",
   "name": "julia",
   "version": "1.9.3"
  }
 },
 "nbformat": 4,
 "nbformat_minor": 2
}
