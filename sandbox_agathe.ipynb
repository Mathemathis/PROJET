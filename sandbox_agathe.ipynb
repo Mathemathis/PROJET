{
 "cells": [
  {
   "cell_type": "code",
   "execution_count": 1,
   "metadata": {},
   "outputs": [
    {
     "data": {
      "text/plain": [
       "(500, 463, 488, 414, 2, 8, [83, 51, 51, 39, 22, 48, 57, 83, 46, 48  …  4, 6, 19, 3, 7, 21, 11, 4, 3, 5], [1, 1, 4, 1, 1, 1, 1, 1, 1, 1  …  1, 1, 1, 1, 1, 1, 1, 1, 1, 1], Dict{Any, Any}((92, 185) => 859, (334, 188) => 3251, (12, 156) => 839, (22, 9) => 1188, (44, 392) => 2319, (107, 3) => 3862, (64, 82) => 3618, (179, 32) => 2371, (225, 4) => 4188, (225, 359) => 4489…), Dict{Any, Any}((92, 185) => 0.07, (334, 188) => 0.27, (12, 156) => 0.07, (22, 9) => 0.1, (44, 392) => 0.38, (107, 3) => 0.32, (64, 82) => 0.3, (179, 32) => 0.2, (225, 4) => 0.35, (225, 359) => 0.37…))"
      ]
     },
     "execution_count": 1,
     "metadata": {},
     "output_type": "execute_result"
    }
   ],
   "source": [
    "include(\"./utils/parsing.jl\")\n",
    "name_instance=\"500_USA-road-d.NY.gr\"\n",
    "n, s, t, S, d1, d2, p, ph, d, D = read_file(\"./data/$name_instance\")\n",
    "\n",
    "# n, s, t, S, d1, d2, p, ph, d, D = simplify_instance(name_instance, 73000)"
   ]
  },
  {
   "cell_type": "code",
   "execution_count": 32,
   "metadata": {},
   "outputs": [
    {
     "data": {
      "text/plain": [
       "(  [132, 22 ]  =  0.0\n",
       "  [132, 4  ]  =  0.0\n",
       "  [135, 158]  =  0.0\n",
       "  [149, 11 ]  =  0.0\n",
       "  [16, 168 ]  =  0.0\n",
       "  [167, 140]  =  0.0\n",
       "  [172, 200]  =  0.0\n",
       "  [175, 94 ]  =  0.0\n",
       "  [200, 54 ]  =  0.0\n",
       "  [21, 52  ]  =  0.0\n",
       "  [26, 53  ]  =  0.0\n",
       "              ⋮\n",
       "  [31, 14  ]  =  0.0\n",
       "  [31, 86  ]  =  0.0\n",
       "  [35, 5   ]  =  0.0\n",
       "  [41, 47  ]  =  0.0\n",
       "  [48, 61  ]  =  0.0\n",
       "  [66, 20  ]  =  0.0\n",
       "  [77, 200 ]  =  0.0\n",
       "  [90, 172 ]  =  0.0\n",
       "  [90, 32  ]  =  0.0\n",
       "  [90, 77  ]  =  0.0, [0.0, 0.0, 0.0, 0.0, 0.0, 0.0, 0.0, 0.0, 0.0, 0.0  …  0.0, 0.0, 0.0, 0.0, 0.0, 1.0, 0.0, 0.0, 0.0, 0.0])"
      ]
     },
     "execution_count": 32,
     "metadata": {},
     "output_type": "execute_result"
    }
   ],
   "source": [
    "include(\"PLNE_compacte.jl\")\n",
    "plne_compacte(n, s, t, S, p, d, name_instance, \"No\", 60)"
   ]
  },
  {
   "cell_type": "code",
   "execution_count": 2,
   "metadata": {},
   "outputs": [
    {
     "name": "stdout",
     "output_type": "stream",
     "text": [
      "FEASIBLE_POINT\n",
      "OPTIMAL\n",
      "Valeur de l’objectif : -134.0\n",
      "82213.48999999999\n",
      "500\n"
     ]
    },
    {
     "data": {
      "text/plain": [
       "(  [102, 106]  =  0.0\n",
       "  [12, 156 ]  =  -0.0\n",
       "  [152, 28 ]  =  -0.0\n",
       "  [160, 500]  =  -0.0\n",
       "  [168, 124]  =  -0.0\n",
       "  [205, 253]  =  0.0\n",
       "  [22, 9   ]  =  -0.0\n",
       "  [27, 198 ]  =  -0.0\n",
       "  [30, 68  ]  =  -0.0\n",
       "  [330, 315]  =  -0.0\n",
       "  [334, 188]  =  -0.0\n",
       "              ⋮\n",
       "  [336, 363]  =  -0.0\n",
       "  [341, 370]  =  -0.0\n",
       "  [349, 422]  =  -0.0\n",
       "  [364, 108]  =  -0.0\n",
       "  [383, 278]  =  -0.0\n",
       "  [406, 335]  =  0.0\n",
       "  [498, 222]  =  -0.0\n",
       "  [57, 181 ]  =  -0.0\n",
       "  [78, 294 ]  =  -0.0\n",
       "  [92, 185 ]  =  -0.0, [0.0, 1.0, 0.0, 0.0, 0.0, 0.0, 0.0, 0.0, 0.0, 0.0  …  0.0, 0.0, 0.0, 0.0, 0.0, 0.0, 0.0, 0.0, 0.0, 0.0])"
      ]
     },
     "execution_count": 2,
     "metadata": {},
     "output_type": "execute_result"
    }
   ],
   "source": [
    "include(\"plans_coupants.jl\")\n",
    "results_ALG=plans_coupantsALG(n, s, t, S, d1, d2, p, ph, d, D, name_instance, \"no_symmetry\", \"with initial values\", 300)"
   ]
  }
 ],
 "metadata": {
  "kernelspec": {
   "display_name": "Julia 1.9.3",
   "language": "julia",
   "name": "julia-1.9"
  },
  "language_info": {
   "file_extension": ".jl",
   "mimetype": "application/julia",
   "name": "julia",
   "version": "1.9.3"
  }
 },
 "nbformat": 4,
 "nbformat_minor": 2
}
