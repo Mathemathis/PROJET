{
 "cells": [
  {
   "cell_type": "code",
   "execution_count": 1,
   "metadata": {},
   "outputs": [
    {
     "data": {
      "text/plain": [
       "read_file (generic function with 1 method)"
      ]
     },
     "metadata": {},
     "output_type": "display_data"
    }
   ],
   "source": [
    "function string_to_array(string_array)\n",
    "    string_array = replace(string_array, \"[\" => \"\")\n",
    "    string_array = replace(string_array, \"]\" => \"\")\n",
    "    sous_chaines = split(string_array, \",\")\n",
    "\n",
    "    return parse.(Int, sous_chaines)\n",
    "end\n",
    "\n",
    "function string_d_to_array(string_array)\n",
    "    string_array = replace(string_array, \";\" => \"\")\n",
    "    string_array = replace(string_array, \"]\" => \"\")\n",
    "    sous_chaines = split(string_array, \" \")\n",
    "\n",
    "    return parse.(Float64, sous_chaines)\n",
    "end\n",
    "\n",
    "function read_file(file)\n",
    "    if isfile(file)\n",
    "        myFile = open(file)\n",
    "        data = readlines(myFile)\n",
    "        n = parse(Int64, data[1][5:end])\n",
    "        s = parse(Int64, data[2][5:end])\n",
    "        t = parse(Int64, data[3][5:end])\n",
    "        S = parse(Int64, data[4][5:end])\n",
    "        d1 = parse(Int64, data[5][5:end])\n",
    "        d2 = parse(Int64, data[6][5:end])\n",
    "\n",
    "        p= string_to_array(data[7][5:end])\n",
    "        ph = string_to_array(data[8][5:end])\n",
    "\n",
    "        d=Dict()\n",
    "        D=Dict()\n",
    "        for line in data[10:end]\n",
    "            array_line=string_d_to_array(line)\n",
    "            i = Int(array_line[1])\n",
    "            j = Int(array_line[2])\n",
    "            d[i,j]=Int(array_line[3])\n",
    "            D[i,j]=array_line[4]\n",
    "        end\n",
    "        # Fermer le fichier\n",
    "        close(myFile)\n",
    "        return n, s, t, S, d1, d2, p, ph, d, D\n",
    "    end\n",
    "end"
   ]
  },
  {
   "cell_type": "code",
   "execution_count": 2,
   "metadata": {},
   "outputs": [
    {
     "data": {
      "text/plain": [
       "(20, 15, 17, 66, 2, 5, [14, 4, 7, 9, 9, 8, 6, 4, 17, 7, 9, 12, 14, 7, 7, 7, 7, 8, 12, 9], [1, 1, 1, 1, 1, 1, 1, 1, 4, 1, 1, 4, 1, 1, 4, 1, 4, 1, 4, 1], Dict{Any, Any}((20, 13) => 862, (17, 12) => 3179, (11, 10) => 942, (1, 12) => 862, (15, 11) => 2847, (19, 3) => 3233, (7, 1) => 1378, (16, 20) => 2691, (13, 6) => 575, (19, 13) => 2477…), Dict{Any, Any}((20, 13) => 0.27, (17, 12) => 0.98, (11, 10) => 0.29, (1, 12) => 0.27, (15, 11) => 0.88, (19, 3) => 1.0, (7, 1) => 0.43, (16, 20) => 0.83, (13, 6) => 0.27, (19, 13) => 0.77…))"
      ]
     },
     "metadata": {},
     "output_type": "display_data"
    }
   ],
   "source": [
    "n, s, t, S, d1, d2, p, ph, d, D = read_file(\"./data/20_USA-road-d.BAY.gr\")"
   ]
  },
  {
   "cell_type": "code",
   "execution_count": 3,
   "metadata": {},
   "outputs": [
    {
     "data": {
      "text/plain": [
       "isIntegerPoint (generic function with 1 method)"
      ]
     },
     "metadata": {},
     "output_type": "display_data"
    }
   ],
   "source": [
    "include(\"plans_coupants.jl\")"
   ]
  },
  {
   "cell_type": "code",
   "execution_count": 4,
   "metadata": {},
   "outputs": [
    {
     "name": "stdout",
     "output_type": "stream",
     "text": [
      "current z* = 0.0\n",
      "Ajout d'une contrainte de type 23"
     ]
    },
    {
     "name": "stdout",
     "output_type": "stream",
     "text": [
      "\n",
      "solution SP1 =  "
     ]
    },
    {
     "name": "stdout",
     "output_type": "stream",
     "text": [
      "30735.36\n",
      "Ajout d'une contrainte de type 24\n",
      "current z* = 0.0\n",
      "Ajout d'une contrainte de type 23\n",
      "solution SP1 =  30735.36\n",
      "Ajout d'une contrainte de type 24\n",
      "current z* = 0.0\n",
      "Ajout d'une contrainte de type 23\n",
      "solution SP1 =  30735.36\n",
      "Ajout d'une contrainte de type 24\n",
      "current z* = 0.0\n",
      "Ajout d'une contrainte de type 23\n",
      "solution SP1 =  30735.36\n",
      "Ajout d'une contrainte de type 24\n"
     ]
    },
    {
     "name": "stdout",
     "output_type": "stream",
     "text": [
      "current z* = 0.0\n",
      "solution SP1 =  15656.52\n",
      "Ajout d'une contrainte de type 24\n",
      "current z* = 9364.999999999998\n",
      "Ajout d'une contrainte de type 23\n",
      "solution SP1 =  15332.560000000001\n",
      "Ajout d'une contrainte de type 24\n",
      "current z* = 9364.999999999996\n",
      "Ajout d'une contrainte de type 23\n",
      "solution SP1 =  15332.559999999998\n",
      "Ajout d'une contrainte de type 24\n",
      "current z* = 12774.419999999998\n",
      "solution SP1 =  15656.52\n",
      "Ajout d'une contrainte de type 24\n",
      "current z* = 15656.519999999997\n",
      "current z* = 12480.419999999998\n",
      "solution SP1 =  15332.560000000001\n",
      "Ajout d'une contrainte de type 24\n",
      "current z* = 15332.560000000001\n",
      "current z* = 12480.419999999998\n",
      "Ajout d'une contrainte de type 23\n",
      "solution SP1 =  15332.560000000001\n",
      "Ajout d'une contrainte de type 24\n",
      "current z* = 12480.42\n",
      "Ajout d'une contrainte de type 23\n",
      "solution SP1 =  15332.560000000001\n",
      "Ajout d'une contrainte de type 24\n",
      "current z* = 12774.419999999998\n",
      "solution SP1 =  15656.52\n",
      "Ajout d'une contrainte de type 24\n",
      "current z* = 14985.779999999999\n",
      "solution SP1 =  15332.560000000001\n",
      "Ajout d'une contrainte de type 24\n",
      "current z* = 15279.779999999995\n",
      "solution SP1 =  "
     ]
    },
    {
     "name": "stdout",
     "output_type": "stream",
     "text": [
      "15656.52\n",
      "Ajout d'une contrainte de type 24\n",
      "current z* = 15279.779999999999\n",
      "solution SP1 =  15656.52\n",
      "Ajout d'une contrainte de type 24\n",
      "current z* = 15279.779999999999\n",
      "solution SP1 =  15656.52\n",
      "Ajout d'une contrainte de type 24\n",
      "current z* = 14985.779999999999\n",
      "solution SP1 =  15332.560000000001\n",
      "Ajout d'une contrainte de type 24\n",
      "current z* = 15279.779999999995\n",
      "solution SP1 =  15656.52\n",
      "Ajout d'une contrainte de type 24\n",
      "current z* = 13151.16\n",
      "solution SP1 =  15656.52\n",
      "Ajout d'une contrainte de type 24\n",
      "current z* = 14985.779999999999\n",
      "Ajout d'une contrainte de type 23\n",
      "solution SP1 =  15332.560000000001\n",
      "Ajout d'une contrainte de type 24\n",
      "current z* = 15279.779999999999\n",
      "solution SP1 =  15656.52\n",
      "Ajout d'une contrainte de type 24\n",
      "current z* = 15279.779999999999\n",
      "solution SP1 =  15656.52\n",
      "Ajout d'une contrainte de type 24\n",
      "current z* = 15279.779999999999\n",
      "solution SP1 =  15656.52\n",
      "Ajout d'une contrainte de type 24\n",
      "current z* = 15279.779999999999\n",
      "solution SP1 =  15656.52\n",
      "Ajout d'une contrainte de type 24\n",
      "current z* = 14985.779999999999\n",
      "solution SP1 =  15332.560000000001\n",
      "Ajout d'une contrainte de type 24\n",
      "current z* = 15279.779999999999\n",
      "solution SP1 =  15656.52\n",
      "Ajout d'une contrainte de type 24\n",
      "current z* = 15279.779999999984\n",
      "solution SP1 =  "
     ]
    },
    {
     "name": "stdout",
     "output_type": "stream",
     "text": [
      "15656.519999999984\n",
      "Ajout d'une contrainte de type 24\n",
      "current z* = 15279.779999999995\n",
      "solution SP1 =  15656.52\n",
      "Ajout d'une contrainte de type 24\n",
      "current z* = 14985.779999999999\n",
      "solution SP1 =  15332.560000000001\n",
      "Ajout d'une contrainte de type 24\n",
      "current z* = 14985.779999999999\n",
      "solution SP1 =  15332.560000000001\n",
      "Ajout d'une contrainte de type 24\n",
      "current z* = 14985.779999999999\n",
      "solution SP1 =  15332.560000000001\n",
      "Ajout d'une contrainte de type 24\n",
      "current z* = 14985.77999999999\n",
      "solution SP1 =  15332.55999999999\n",
      "Ajout d'une contrainte de type 24\n",
      "current z* = 15279.77999999999\n",
      "solution SP1 =  15656.51999999999\n",
      "Ajout d'une contrainte de type 24\n",
      "current z* = 15279.779999999995\n",
      "solution SP1 =  15656.52\n",
      "Ajout d'une contrainte de type 24\n",
      "current z* = 15279.779999999999\n",
      "solution SP1 =  15656.52\n",
      "Ajout d'une contrainte de type 24\n"
     ]
    },
    {
     "name": "stdout",
     "output_type": "stream",
     "text": [
      "FEASIBLE_POINT\n",
      "OPTIMAL\n",
      "Valeur de l’objectif : 15332.560000000001\n"
     ]
    },
    {
     "data": {
      "text/plain": [
       "(  [1, 12 ]  =  -0.0\n",
       "  [10, 20]  =  -0.0\n",
       "  [11, 1 ]  =  0.0\n",
       "  [11, 10]  =  -0.0\n",
       "  [12, 10]  =  -0.0\n",
       "  [12, 18]  =  -0.0\n",
       "  [15, 11]  =  0.0\n",
       "  [16, 4 ]  =  -0.0\n",
       "            ⋮\n",
       "  [17, 12]  =  -0.0\n",
       "  [18, 20]  =  -0.0\n",
       "  [19, 3 ]  =  -0.0\n",
       "  [20, 13]  =  -0.0\n",
       "  [6, 7  ]  =  -0.0\n",
       "  [7, 1  ]  =  -0.0\n",
       "  [9, 19 ]  =  -0.0, [0.0, -0.0, -0.0, 1.0, 0.0, -0.0, -0.0, -0.0, 0.0, -0.0, 0.0, 0.0, 1.0, -0.0, 1.0, -0.0, 1.0, -0.0, -0.0, 1.0])"
      ]
     },
     "metadata": {},
     "output_type": "display_data"
    }
   ],
   "source": [
    "results=plans_coupants(n, s, t, S, d1, d2, p, ph, d, D, 60)"
   ]
  },
  {
   "cell_type": "code",
   "execution_count": 5,
   "metadata": {},
   "outputs": [],
   "source": []
  }
 ],
 "metadata": {
  "kernelspec": {
   "display_name": "Julia 1.10.0",
   "language": "julia",
   "name": "julia-1.10"
  },
  "language_info": {
   "file_extension": ".jl",
   "mimetype": "application/julia",
   "name": "julia",
   "version": "1.10.0"
  }
 },
 "nbformat": 4,
 "nbformat_minor": 2
}
