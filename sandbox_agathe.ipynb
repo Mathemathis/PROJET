{
 "cells": [
  {
   "cell_type": "code",
   "execution_count": 1,
   "metadata": {},
   "outputs": [
    {
     "data": {
      "text/plain": [
       "(100, 81, 83, 132, 2, 3, [34, 19, 12, 12, 24, 19, 20, 34, 16, 19  …  8, 7, 6, 11, 19, 12, 6, 10, 9, 4], [1, 1, 1, 1, 1, 1, 2, 1, 1, 1  …  1, 1, 2, 1, 1, 1, 1, 1, 1, 1], Dict{Any, Any}((90, 32) => 1132, (31, 86) => 1132, (35, 5) => 1453, (90, 77) => 1132, (31, 14) => 1527, (26, 53) => 4381, (12, 45) => 6371, (48, 61) => 3037, (66, 2) => 2851, (43, 66) => 1998…), Dict{Any, Any}((90, 32) => 0.18, (31, 86) => 0.18, (35, 5) => 0.23, (90, 77) => 0.18, (31, 14) => 0.24, (26, 53) => 0.69, (12, 45) => 1.0, (48, 61) => 0.48, (66, 2) => 0.45, (43, 66) => 0.31…))"
      ]
     },
     "execution_count": 1,
     "metadata": {},
     "output_type": "execute_result"
    }
   ],
   "source": [
    "include(\"./utils/parsing.jl\")\n",
    "name_instance=\"100_USA-road-d.COL.gr\"\n",
    "n, s, t, S, d1, d2, p, ph, d, D = read_file(\"./data/$name_instance\")\n",
    "\n",
    "# n, s, t, S, d1, d2, p, ph, d, D = simplify_instance(name_instance, 73000)"
   ]
  },
  {
   "cell_type": "code",
   "execution_count": 7,
   "metadata": {},
   "outputs": [
    {
     "name": "stdout",
     "output_type": "stream",
     "text": [
      "s = 81, t = 83\n",
      " Est bien un chemin ?true\n",
      "distance du chemin = 103\n",
      "valeur de S = 132\n"
     ]
    },
    {
     "data": {
      "text/plain": [
       "(  [12, 2 ]  =  -0.0\n",
       "  [18, 16]  =  -0.0\n",
       "  [21, 52]  =  -0.0\n",
       "  [23, 10]  =  -0.0\n",
       "  [30, 77]  =  -0.0\n",
       "  [31, 86]  =  0.0\n",
       "  [34, 22]  =  -0.0\n",
       "  [35, 39]  =  -0.0\n",
       "  [35, 5 ]  =  -0.0\n",
       "  [36, 24]  =  -0.0\n",
       "  [45, 84]  =  0.0\n",
       "            ⋮\n",
       "  [57, 9 ]  =  -0.0\n",
       "  [65, 85]  =  -0.0\n",
       "  [66, 20]  =  -0.0\n",
       "  [67, 39]  =  -0.0\n",
       "  [68, 47]  =  -0.0\n",
       "  [77, 47]  =  -0.0\n",
       "  [81, 63]  =  0.0\n",
       "  [84, 83]  =  0.0\n",
       "  [87, 13]  =  -0.0\n",
       "  [90, 32]  =  -0.0, [0.0, 0.0, 0.0, 0.0, 0.0, 0.0, 0.0, 0.0, 0.0, 0.0  …  0.0, 0.0, 1.0, 0.0, 0.0, 0.0, 0.0, 0.0, 1.0, 0.0])"
      ]
     },
     "execution_count": 7,
     "metadata": {},
     "output_type": "execute_result"
    }
   ],
   "source": [
    "include(\"PLNE_compacte.jl\")\n",
    "plne_compacte(n, s, t, S, p, d, name_instance, \"No\", 120)"
   ]
  },
  {
   "cell_type": "code",
   "execution_count": 9,
   "metadata": {},
   "outputs": [
    {
     "data": {
      "text/plain": [
       "(  [10, 54]  =  0.0\n",
       "  [12, 2 ]  =  -0.0\n",
       "  [13, 66]  =  0.0\n",
       "  [18, 16]  =  -0.0\n",
       "  [18, 86]  =  -0.0\n",
       "  [23, 10]  =  -0.0\n",
       "  [28, 93]  =  -0.0\n",
       "  [41, 10]  =  -0.0\n",
       "  [49, 33]  =  -0.0\n",
       "  [50, 90]  =  -0.0\n",
       "  [55, 7 ]  =  -0.0\n",
       "            ⋮\n",
       "  [6, 71 ]  =  -0.0\n",
       "  [65, 11]  =  -0.0\n",
       "  [65, 21]  =  -0.0\n",
       "  [69, 17]  =  -0.0\n",
       "  [72, 92]  =  -0.0\n",
       "  [73, 38]  =  -0.0\n",
       "  [74, 31]  =  -0.0\n",
       "  [84, 37]  =  -0.0\n",
       "  [88, 97]  =  -0.0\n",
       "  [89, 61]  =  -0.0, [0.0, 0.0, -0.0, -0.0, 0.0, 0.0, 1.0, 0.0, 0.0, 0.0  …  -0.0, 1.0, 1.0, -0.0, 0.0, 0.0, 1.0, 0.0, 1.0, 0.0], [0.0, 0.0, 0.0, 0.0, 0.0, 0.0, 0.0, 0.0, 0.0, 0.0  …  0.0, 0.0, 0.0, 0.0, 0.0, 0.0, 0.0, 0.0, 0.0, 0.0], 2.0)"
      ]
     },
     "execution_count": 9,
     "metadata": {},
     "output_type": "execute_result"
    }
   ],
   "source": [
    "include(\"PLNE_dual.jl\")\n",
    "results_dual=plne_dual(n, s, t, S, d1, d2, p, ph, d, D, name_instance, \"formulation agregee\", \"with initial values\", 300)"
   ]
  },
  {
   "cell_type": "code",
   "execution_count": 10,
   "metadata": {},
   "outputs": [
    {
     "data": {
      "text/plain": [
       "(  [10, 54]  =  0.0\n",
       "  [12, 2 ]  =  -0.0\n",
       "  [13, 66]  =  -0.0\n",
       "  [18, 16]  =  -0.0\n",
       "  [18, 86]  =  -0.0\n",
       "  [23, 10]  =  -0.0\n",
       "  [28, 93]  =  -0.0\n",
       "  [41, 10]  =  -0.0\n",
       "  [49, 33]  =  -0.0\n",
       "  [50, 90]  =  -0.0\n",
       "  [55, 7 ]  =  -0.0\n",
       "            ⋮\n",
       "  [6, 71 ]  =  -0.0\n",
       "  [65, 11]  =  -0.0\n",
       "  [65, 21]  =  -0.0\n",
       "  [69, 17]  =  -0.0\n",
       "  [72, 92]  =  0.0\n",
       "  [73, 38]  =  -0.0\n",
       "  [74, 31]  =  -0.0\n",
       "  [84, 37]  =  -0.0\n",
       "  [88, 97]  =  -0.0\n",
       "  [89, 61]  =  -0.0, [-0.0, -0.0, -0.0, -0.0, -0.0, -0.0, -0.0, -0.0, -0.0, -0.0  …  -0.0, 1.0, 1.0, -0.0, -0.0, -0.0, -0.0, -0.0, -0.0, -0.0])"
      ]
     },
     "execution_count": 10,
     "metadata": {},
     "output_type": "execute_result"
    }
   ],
   "source": [
    "include(\"plans_coupants.jl\")\n",
    "results_ALG=plans_coupantsALG(n, s, t, S, d1, d2, p, ph, d, D, name_instance, \"no_symmetry\", \"with initial values\", 300)"
   ]
  }
 ],
 "metadata": {
  "kernelspec": {
   "display_name": "Julia 1.9.3",
   "language": "julia",
   "name": "julia-1.9"
  },
  "language_info": {
   "file_extension": ".jl",
   "mimetype": "application/julia",
   "name": "julia",
   "version": "1.9.3"
  }
 },
 "nbformat": 4,
 "nbformat_minor": 2
}
