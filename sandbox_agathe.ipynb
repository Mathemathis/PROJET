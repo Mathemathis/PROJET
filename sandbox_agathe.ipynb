{
 "cells": [
  {
   "cell_type": "code",
   "execution_count": 120,
   "metadata": {},
   "outputs": [
    {
     "data": {
      "text/plain": [
       "read_file (generic function with 1 method)"
      ]
     },
     "metadata": {},
     "output_type": "display_data"
    }
   ],
   "source": [
    "function string_to_array(string_array)\n",
    "    string_array = replace(string_array, \"[\" => \"\")\n",
    "    string_array = replace(string_array, \"]\" => \"\")\n",
    "    sous_chaines = split(string_array, \",\")\n",
    "\n",
    "    return parse.(Int, sous_chaines)\n",
    "end\n",
    "\n",
    "function string_d_to_array(string_array)\n",
    "    string_array = replace(string_array, \";\" => \"\")\n",
    "    string_array = replace(string_array, \"]\" => \"\")\n",
    "    sous_chaines = split(string_array, \" \")\n",
    "\n",
    "    return parse.(Float64, sous_chaines)\n",
    "end\n",
    "\n",
    "function read_file(file)\n",
    "    if isfile(file)\n",
    "        myFile = open(file)\n",
    "        data = readlines(myFile)\n",
    "        n = parse(Int64, data[1][5:end])\n",
    "        s = parse(Int64, data[2][5:end])\n",
    "        t = parse(Int64, data[3][5:end])\n",
    "        S = parse(Int64, data[4][5:end])\n",
    "        d1 = parse(Int64, data[5][5:end])\n",
    "        d2 = parse(Int64, data[6][5:end])\n",
    "\n",
    "        p= string_to_array(data[7][5:end])\n",
    "        ph = string_to_array(data[8][5:end])\n",
    "\n",
    "        d=Dict()\n",
    "        D=Dict()\n",
    "        for line in data[10:end]\n",
    "            array_line=string_d_to_array(line)\n",
    "            i = Int(array_line[1])\n",
    "            j = Int(array_line[2])\n",
    "            d[i,j]=Int(array_line[3])\n",
    "            D[i,j]=array_line[4]\n",
    "        end\n",
    "        # Fermer le fichier\n",
    "        close(myFile)\n",
    "        return n, s, t, S, d1, d2, p, ph, d, D\n",
    "    end\n",
    "end"
   ]
  },
  {
   "cell_type": "code",
   "execution_count": 121,
   "metadata": {},
   "outputs": [
    {
     "data": {
      "text/plain": [
       "(40, 29, 40, 66, 2, 3, [25, 8, 13, 16, 15, 15, 11, 7, 25, 10  …  15, 5, 11, 10, 15, 25, 8, 12, 6, 5], [1, 1, 2, 1, 1, 1, 1, 1, 1, 1  …  1, 1, 1, 1, 1, 1, 1, 1, 1, 2], Dict{Any, Any}((28, 24) => 1457, (36, 37) => 1457, (22, 28) => 1378, (23, 2) => 1457, (17, 12) => 3179, (36, 8) => 1097, (36, 18) => 575, (5, 35) => 439, (36, 24) => 1457, (19, 14) => 3233…), Dict{Any, Any}((28, 24) => 0.45, (36, 37) => 0.45, (22, 28) => 0.43, (23, 2) => 0.45, (17, 12) => 0.98, (36, 8) => 0.34, (36, 18) => 0.27, (5, 35) => 0.14, (36, 24) => 0.45, (19, 14) => 1.0…))"
      ]
     },
     "metadata": {},
     "output_type": "display_data"
    }
   ],
   "source": [
    "n, s, t, S, d1, d2, p, ph, d, D = read_file(\"./data/40_USA-road-d.BAY.gr\")"
   ]
  },
  {
   "cell_type": "code",
   "execution_count": 122,
   "metadata": {},
   "outputs": [
    {
     "data": {
      "text/plain": [
       "isIntegerPoint (generic function with 1 method)"
      ]
     },
     "metadata": {},
     "output_type": "display_data"
    }
   ],
   "source": [
    "include(\"plans_coupants.jl\")"
   ]
  },
  {
   "cell_type": "code",
   "execution_count": 123,
   "metadata": {},
   "outputs": [],
   "source": [
    "plans_coupantsALG(n, s, t, S, d1, d2, p, ph, d, D, 600)"
   ]
  },
  {
   "cell_type": "code",
   "execution_count": 124,
   "metadata": {},
   "outputs": [
    {
     "data": {
      "text/plain": [
       "(  [12, 10]  =  -0.0\n",
       "  [17, 12]  =  -0.0\n",
       "  [22, 28]  =  -0.0\n",
       "  [23, 2 ]  =  -0.0\n",
       "  [23, 27]  =  -0.0\n",
       "  [26, 20]  =  -0.0\n",
       "  [28, 18]  =  -0.0\n",
       "  [28, 24]  =  -0.0\n",
       "            ⋮\n",
       "  [28, 37]  =  -0.0\n",
       "  [28, 8 ]  =  -0.0\n",
       "  [33, 36]  =  -0.0\n",
       "  [36, 18]  =  -0.0\n",
       "  [36, 37]  =  -0.0\n",
       "  [36, 8 ]  =  -0.0\n",
       "  [6, 32 ]  =  0.0, [-0.0, 0.0, 0.0, 0.0, -0.0, 0.0, 0.0, 0.0, 0.0, 1.0  …  0.0, 0.0, 0.0, 0.0, 0.0, 0.0, 0.0, 1.0, 0.0, 1.0])"
      ]
     },
     "metadata": {},
     "output_type": "display_data"
    }
   ],
   "source": [
    "plans_coupantsPLNE(n, s, t, S, d1, d2, p, ph, d, D, 600)"
   ]
  },
  {
   "cell_type": "code",
   "execution_count": 125,
   "metadata": {},
   "outputs": [
    {
     "data": {
      "text/plain": [
       "branchAndCutALG (generic function with 1 method)"
      ]
     },
     "metadata": {},
     "output_type": "display_data"
    }
   ],
   "source": [
    "include(\"branch_cut.jl\")"
   ]
  },
  {
   "cell_type": "code",
   "execution_count": 126,
   "metadata": {},
   "outputs": [],
   "source": [
    "branchAndCutALG(n, s, t, S, d1, d2, p, ph, d, D, 600)"
   ]
  },
  {
   "cell_type": "code",
   "execution_count": 127,
   "metadata": {},
   "outputs": [],
   "source": [
    "branchAndCutPLNE(n, s, t, S, d1, d2, p, ph, d, D, 600)"
   ]
  }
 ],
 "metadata": {
  "kernelspec": {
   "display_name": "Julia 1.10.0",
   "language": "julia",
   "name": "julia-1.10"
  },
  "language_info": {
   "file_extension": ".jl",
   "mimetype": "application/julia",
   "name": "julia",
   "version": "1.10.0"
  }
 },
 "nbformat": 4,
 "nbformat_minor": 2
}
