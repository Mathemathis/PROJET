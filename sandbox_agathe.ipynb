{
 "cells": [
  {
   "cell_type": "code",
   "execution_count": 1,
   "metadata": {},
   "outputs": [
    {
     "data": {
      "text/plain": [
       "read_file (generic function with 1 method)"
      ]
     },
     "execution_count": 1,
     "metadata": {},
     "output_type": "execute_result"
    }
   ],
   "source": [
    "function string_to_array(string_array)\n",
    "    string_array = replace(string_array, \"[\" => \"\")\n",
    "    string_array = replace(string_array, \"]\" => \"\")\n",
    "    sous_chaines = split(string_array, \",\")\n",
    "\n",
    "    return parse.(Int, sous_chaines)\n",
    "end\n",
    "\n",
    "function string_d_to_array(string_array)\n",
    "    string_array = replace(string_array, \";\" => \"\")\n",
    "    string_array = replace(string_array, \"]\" => \"\")\n",
    "    sous_chaines = split(string_array, \" \")\n",
    "\n",
    "    return parse.(Float64, sous_chaines)\n",
    "end\n",
    "\n",
    "function read_file(file)\n",
    "    if isfile(file)\n",
    "        myFile = open(file)\n",
    "        data = readlines(myFile)\n",
    "        n = parse(Int64, data[1][5:end])\n",
    "        s = parse(Int64, data[2][5:end])\n",
    "        t = parse(Int64, data[3][5:end])\n",
    "        S = parse(Int64, data[4][5:end])\n",
    "        d1 = parse(Int64, data[5][5:end])\n",
    "        d2 = parse(Int64, data[6][5:end])\n",
    "\n",
    "        p= string_to_array(data[7][5:end])\n",
    "        ph = string_to_array(data[8][5:end])\n",
    "\n",
    "        d=Dict()\n",
    "        D=Dict()\n",
    "        for line in data[10:end]\n",
    "            array_line=string_d_to_array(line)\n",
    "            i = Int(array_line[1])\n",
    "            j = Int(array_line[2])\n",
    "            d[i,j]=Int(array_line[3])\n",
    "            D[i,j]=array_line[4]\n",
    "        end\n",
    "        # Fermer le fichier\n",
    "        close(myFile)\n",
    "        return n, s, t, S, d1, d2, p, ph, d, D\n",
    "    end\n",
    "end"
   ]
  },
  {
   "cell_type": "code",
   "execution_count": 2,
   "metadata": {},
   "outputs": [
    {
     "data": {
      "text/plain": [
       "(200, 74, 159, 273, 2, 6, [80, 30, 41, 51, 52, 51, 38, 24, 80, 35  …  8, 80, 17, 18, 41, 27, 52, 24, 7, 80], [1, 1, 1, 1, 1, 1, 1, 1, 1, 1  …  1, 1, 1, 1, 1, 1, 1, 1, 1, 1], Dict{Any, Any}((200, 195) => 1441, (17, 12) => 3179, (57, 181) => 1457, (16, 99) => 1346, (132, 140) => 439, (164, 130) => 1316, (19, 16) => 942, (140, 132) => 439, (22, 9) => 1378, (36, 73) => 1457…), Dict{Any, Any}((200, 195) => 0.22, (17, 12) => 0.32, (57, 181) => 0.15, (16, 99) => 0.14, (132, 140) => 0.04, (164, 130) => 0.34, (19, 16) => 0.1, (140, 132) => 0.04, (22, 9) => 0.14, (36, 73) => 0.15…))"
      ]
     },
     "execution_count": 2,
     "metadata": {},
     "output_type": "execute_result"
    }
   ],
   "source": [
    "n, s, t, S, d1, d2, p, ph, d, D = read_file(\"./data/200_USA-road-d.BAY.gr\")"
   ]
  },
  {
   "cell_type": "code",
   "execution_count": 9,
   "metadata": {},
   "outputs": [
    {
     "data": {
      "text/plain": [
       "isIntegerPoint (generic function with 1 method)"
      ]
     },
     "execution_count": 9,
     "metadata": {},
     "output_type": "execute_result"
    }
   ],
   "source": [
    "include(\"plans_coupants.jl\")"
   ]
  },
  {
   "cell_type": "code",
   "execution_count": 12,
   "metadata": {},
   "outputs": [
    {
     "data": {
      "text/plain": [
       "(  [11, 54  ]  =  0.0\n",
       "  [132, 140]  =  0.0\n",
       "  [140, 132]  =  0.0\n",
       "  [148, 157]  =  0.0\n",
       "  [149, 128]  =  0.0\n",
       "  [16, 99  ]  =  0.0\n",
       "  [164, 130]  =  0.0\n",
       "  [17, 12  ]  =  0.0\n",
       "  [171, 80 ]  =  0.0\n",
       "  [174, 57 ]  =  0.0\n",
       "  [177, 200]  =  0.0\n",
       "              ⋮\n",
       "  [19, 16  ]  =  0.0\n",
       "  [200, 195]  =  0.0\n",
       "  [22, 9   ]  =  0.0\n",
       "  [28, 37  ]  =  0.0\n",
       "  [36, 73  ]  =  0.0\n",
       "  [57, 181 ]  =  0.0\n",
       "  [65, 128 ]  =  0.0\n",
       "  [75, 124 ]  =  0.0\n",
       "  [96, 142 ]  =  0.0\n",
       "  [96, 43  ]  =  0.0, [0.0, 0.0, 1.0, 0.0, 0.0, 0.0, 0.0, 0.0, 0.0, 0.0  …  0.0, 0.0, 0.0, 0.0, 0.0, 0.0, 0.0, 0.0, 0.0, 0.0])"
      ]
     },
     "execution_count": 12,
     "metadata": {},
     "output_type": "execute_result"
    }
   ],
   "source": [
    "results=plans_coupants(n, s, t, S, d1, d2, p, ph, d, D, 600)"
   ]
  }
 ],
 "metadata": {
  "kernelspec": {
   "display_name": "Julia 1.9.3",
   "language": "julia",
   "name": "julia-1.9"
  },
  "language_info": {
   "file_extension": ".jl",
   "mimetype": "application/julia",
   "name": "julia",
   "version": "1.9.3"
  }
 },
 "nbformat": 4,
 "nbformat_minor": 2
}
