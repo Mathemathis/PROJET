{
 "cells": [
  {
   "cell_type": "code",
   "execution_count": 10,
   "metadata": {},
   "outputs": [
    {
     "data": {
      "text/plain": [
       "(500, 83, 389, 510, 2, 2, [99, 50, 33, 32, 82, 54, 65, 99, 46, 50  …  40, 32, 50, 31, 46, 41, 37, 36, 25, 38], [1, 1, 1, 1, 1, 1, 1, 1, 1, 1  …  1, 1, 1, 1, 1, 1, 1, 1, 1, 1], Dict{Any, Any}((344, 278) => 4381, (423, 30) => 1527, (451, 8) => 2851, (33, 293) => 1309, (379, 345) => 2912, (229, 289) => 1102, (306, 106) => 1899, (21, 345) => 2912, (363, 95) => 1453, (481, 374) => 5005…), Dict{Any, Any}((344, 278) => 0.63, (423, 30) => 0.22, (451, 8) => 0.41, (33, 293) => 0.19, (379, 345) => 0.42, (229, 289) => 0.16, (306, 106) => 0.27, (21, 345) => 0.42, (363, 95) => 0.21, (481, 374) => 0.72…))"
      ]
     },
     "execution_count": 10,
     "metadata": {},
     "output_type": "execute_result"
    }
   ],
   "source": [
    "include(\"./utils/parsing.jl\")\n",
    "name_instance=\"500_USA-road-d.COL.gr\"\n",
    "n, s, t, S, d1, d2, p, ph, d, D = read_file(\"./data/$name_instance\")\n",
    "\n",
    "# n, s, t, S, d1, d2, p, ph, d, D = simplify_instance(name_instance, 73000)"
   ]
  },
  {
   "cell_type": "code",
   "execution_count": 11,
   "metadata": {},
   "outputs": [
    {
     "data": {
      "text/plain": [
       "(  [102, 456]  =  0.0\n",
       "  [106, 299]  =  0.0\n",
       "  [153, 463]  =  0.0\n",
       "  [229, 289]  =  0.0\n",
       "  [248, 169]  =  0.0\n",
       "  [299, 148]  =  0.0\n",
       "  [33, 293 ]  =  0.0\n",
       "  [344, 278]  =  0.0\n",
       "  [361, 248]  =  0.0\n",
       "  [379, 345]  =  0.0\n",
       "  [423, 30 ]  =  0.0\n",
       "              ⋮\n",
       "  [425, 163]  =  0.0\n",
       "  [451, 8  ]  =  0.0\n",
       "  [454, 298]  =  0.0\n",
       "  [461, 355]  =  0.0\n",
       "  [476, 370]  =  0.0\n",
       "  [498, 58 ]  =  0.0\n",
       "  [50, 313 ]  =  0.0\n",
       "  [66, 20  ]  =  0.0\n",
       "  [78, 294 ]  =  0.0\n",
       "  [9, 490  ]  =  0.0, [0.0, 1.0, 0.0, 0.0, 0.0, 0.0, 0.0, 0.0, 0.0, 0.0  …  0.0, 0.0, 0.0, 0.0, 0.0, 0.0, 0.0, 0.0, 0.0, 0.0])"
      ]
     },
     "execution_count": 11,
     "metadata": {},
     "output_type": "execute_result"
    }
   ],
   "source": [
    "include(\"PLNE_compacte.jl\")\n",
    "plne_compacte(n, s, t, S, p, d, name_instance, \"No\", 120)"
   ]
  },
  {
   "cell_type": "code",
   "execution_count": 13,
   "metadata": {},
   "outputs": [
    {
     "data": {
      "text/plain": [
       "(  [106, 299]  =  -0.0\n",
       "  [106, 316]  =  -0.0\n",
       "  [129, 346]  =  -0.0\n",
       "  [158, 297]  =  -0.0\n",
       "  [204, 391]  =  -0.0\n",
       "  [246, 123]  =  -0.0\n",
       "  [290, 51 ]  =  -0.0\n",
       "  [322, 377]  =  -0.0\n",
       "  [384, 391]  =  -0.0\n",
       "  [399, 29 ]  =  -0.0\n",
       "  [418, 236]  =  -0.0\n",
       "              ⋮\n",
       "  [423, 30 ]  =  -0.0\n",
       "  [425, 347]  =  0.0\n",
       "  [431, 2  ]  =  -0.0\n",
       "  [434, 133]  =  -0.0\n",
       "  [443, 210]  =  -0.0\n",
       "  [453, 388]  =  -0.0\n",
       "  [51, 315 ]  =  -0.0\n",
       "  [66, 20  ]  =  -0.0\n",
       "  [88, 143 ]  =  -0.0\n",
       "  [92, 185 ]  =  -0.0, [1.0, 0.0, 0.0, 0.0, 0.0, 0.0, 0.0, 0.0, 0.0, 1.0  …  0.0, -0.0, 0.0, -0.0, 0.0, 0.0, 0.0, 0.0, -0.0, -0.0], [0.0, 0.0, 0.0, 0.0, 0.0, 0.0, 0.0, 0.0, 0.0, 0.0  …  0.0, 0.0, 0.0, 0.0, 0.0, 0.0, 0.0, 0.0, 0.0, 0.0], 1.0)"
      ]
     },
     "execution_count": 13,
     "metadata": {},
     "output_type": "execute_result"
    }
   ],
   "source": [
    "include(\"PLNE_dual.jl\")\n",
    "results_dual=plne_dual(n, s, t, S, d1, d2, p, ph, d, D, name_instance, \"formulation non agregee\", \"with initial values\", 300)"
   ]
  },
  {
   "cell_type": "code",
   "execution_count": 8,
   "metadata": {},
   "outputs": [
    {
     "data": {
      "text/plain": [
       "Dict{Int64, Int64} with 10 entries:\n",
       "  1  => 344\n",
       "  7  => 1\n",
       "  16 => 8\n",
       "  4  => 1\n",
       "  13 => 1\n",
       "  2  => 3\n",
       "  10 => 2\n",
       "  9  => 1\n",
       "  14 => 1\n",
       "  3  => 6"
      ]
     },
     "execution_count": 8,
     "metadata": {},
     "output_type": "execute_result"
    }
   ],
   "source": [
    "calcul_p_ph_k_set(p, ph, S)[4]"
   ]
  },
  {
   "cell_type": "code",
   "execution_count": 14,
   "metadata": {},
   "outputs": [
    {
     "data": {
      "text/plain": [
       "(  [106, 299]  =  -0.0\n",
       "  [106, 316]  =  -0.0\n",
       "  [129, 346]  =  -0.0\n",
       "  [158, 297]  =  -0.0\n",
       "  [204, 391]  =  -0.0\n",
       "  [246, 123]  =  -0.0\n",
       "  [290, 51 ]  =  -0.0\n",
       "  [322, 377]  =  -0.0\n",
       "  [384, 391]  =  -0.0\n",
       "  [399, 29 ]  =  -0.0\n",
       "  [418, 236]  =  -0.0\n",
       "              ⋮\n",
       "  [423, 30 ]  =  -0.0\n",
       "  [425, 347]  =  0.0\n",
       "  [431, 2  ]  =  -0.0\n",
       "  [434, 133]  =  -0.0\n",
       "  [443, 210]  =  -0.0\n",
       "  [453, 388]  =  -0.0\n",
       "  [51, 315 ]  =  -0.0\n",
       "  [66, 20  ]  =  -0.0\n",
       "  [88, 143 ]  =  -0.0\n",
       "  [92, 185 ]  =  -0.0, [0.0, 0.0, 0.0, 0.0, 0.0, 0.0, 0.0, 0.0, 0.0, 0.0  …  0.0, 0.0, 0.0, 0.0, 0.0, 0.0, 0.0, 0.0, 0.0, 0.0])"
      ]
     },
     "execution_count": 14,
     "metadata": {},
     "output_type": "execute_result"
    }
   ],
   "source": [
    "include(\"plans_coupants.jl\")\n",
    "results_ALG=plans_coupantsALG(n, s, t, S, d1, d2, p, ph, d, D, name_instance, \"no_symmetry\", \"with initial values\", 300)"
   ]
  },
  {
   "cell_type": "code",
   "execution_count": 10,
   "metadata": {},
   "outputs": [
    {
     "name": "stdout",
     "output_type": "stream",
     "text": [
      "Version identifier: 22.1.0.0 | 2022-03-09 | 1a383f8ce\n",
      "CPXPARAM_Threads                                 1\n",
      "Generic callback                                 0xfe\n",
      "VariableRef[x[1,1], x[1,2], x[2,1], x[2,2], y[1,1], y[1,2], y[2,1], y[2,2]]\n",
      "[0, 0, 0, 0, 0, 0, 0, 0]\n",
      "status: HEURISTIC_SOLUTION_UNKNOWN\n",
      "Found incumbent of value 0.000000 after 0.20 sec. (0.00 ticks)\n",
      "Tried aggregator 1 time.\n",
      "Reduced MIP has 1 rows, 8 columns, and 8 nonzeros.\n",
      "Reduced MIP has 8 binaries, 0 generals, 0 SOSs, and 0 indicators.\n",
      "Presolve time = 0.00 sec. (0.00 ticks)\n",
      "Probing time = 0.00 sec. (0.00 ticks)\n",
      "Tried aggregator 1 time.\n",
      "Reduced MIP has 1 rows, 8 columns, and 8 nonzeros.\n",
      "Reduced MIP has 8 binaries, 0 generals, 0 SOSs, and 0 indicators.\n",
      "Presolve time = 0.00 sec. (0.00 ticks)\n",
      "Probing time = 0.00 sec. (0.00 ticks)\n",
      "Clique table members: 1.\n",
      "MIP emphasis: balance optimality and feasibility.\n",
      "MIP search method: dynamic search.\n",
      "Parallel mode: none, using 1 thread.\n",
      "Root relaxation solution time = 0.00 sec. (0.00 ticks)\n",
      "\n",
      "        Nodes                                         Cuts/\n",
      "   Node  Left     Objective  IInf  Best Integer    Best Bound    ItCnt     Gap\n",
      "\n",
      "*     0+    0                            0.0000        4.0000              --- \n",
      "VariableRef[x[1,1], x[1,2], x[2,1], x[2,2], y[1,1], y[1,2], y[2,1], y[2,2]]\n",
      "[0, 0, 0, 0, 0, 0, 1, 0]\n",
      "status: HEURISTIC_SOLUTION_UNKNOWN\n",
      "*     0     0      integral     0        1.0000        1.0000        1    0.00%\n",
      "Elapsed time = 0.20 sec. (0.02 ticks, tree = 0.00 MB, solutions = 2)\n"
     ]
    },
    {
     "data": {
      "text/plain": [
       "2×2 Matrix{Float64}:\n",
       " -0.0  -0.0\n",
       " -0.0  -0.0"
      ]
     },
     "execution_count": 10,
     "metadata": {},
     "output_type": "execute_result"
    }
   ],
   "source": [
    "include(\"test.jl\")\n",
    "test()"
   ]
  }
 ],
 "metadata": {
  "kernelspec": {
   "display_name": "Julia 1.9.3",
   "language": "julia",
   "name": "julia-1.9"
  },
  "language_info": {
   "file_extension": ".jl",
   "mimetype": "application/julia",
   "name": "julia",
   "version": "1.9.3"
  }
 },
 "nbformat": 4,
 "nbformat_minor": 2
}
