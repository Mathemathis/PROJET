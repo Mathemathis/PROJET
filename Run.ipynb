{
 "cells": [
  {
   "cell_type": "code",
   "execution_count": 1,
   "metadata": {},
   "outputs": [],
   "source": [
    "import Pkg\n",
    "using Distributed\n",
    "addprocs(5)\n",
    "using XLSX"
   ]
  },
  {
   "cell_type": "code",
   "execution_count": 6,
   "metadata": {},
   "outputs": [],
   "source": [
    "@everywhere include(\"plans_coupants.jl\")"
   ]
  },
  {
   "cell_type": "code",
   "execution_count": 8,
   "metadata": {},
   "outputs": [
    {
     "data": {
      "text/plain": [
       "6-element Vector{Tuple{String, Float64, Vector{Int64}, Float64, Float64, Int64, Int64}}:\n",
       " (\"1000_USA-road-d.BAY.gr\", 10.476999998092651, [205, 216, 218, 299, 335, 454, 516, 560, 642, 656, 659, 716, 856, 915, 964, 965, 993], 48250.00000000001, 40117.0, 0, 2)\n",
       " (\"1000_USA-road-d.COL.gr\", 10.452999830245972, [18, 27, 117, 144, 212, 213, 319, 407, 546, 576, 583, 666, 741, 779], 29904.819999999996, 24068.0, 0, 2)\n",
       " (\"1000_USA-road-d.NY.gr\", 10.333999872207642, [50, 54, 85, 120, 256, 281, 323, 330, 349, 359, 360, 384, 396, 454, 576, 621, 640, 759, 906], 43841.310000000005, 36881.636, 0, 2)\n",
       " (\"100_USA-road-d.BAY.gr\", 0.6649999618530273, [4, 10, 44, 59, 65, 74, 89], 10857.060000000001, 10857.060000000001, 1, 2)\n",
       " (\"100_USA-road-d.COL.gr\", 0.21399998664855957, [7, 26, 49, 59, 71, 77, 79, 81, 83, 92, 93, 97], 25320.15, 25320.15, 1, 5)\n",
       " (\"100_USA-road-d.NY.gr\", 2.0889999866485596, [7, 15, 16, 42, 51, 54, 55, 68, 96], 33931.04, 33931.04, 1, 4)"
      ]
     },
     "execution_count": 8,
     "metadata": {},
     "output_type": "execute_result"
    }
   ],
   "source": [
    "end_time=10\n",
    "futures_planscoupants = Vector{Future}()\n",
    "\n",
    "for name_instance in readdir(\"./data/\")[2: 7]\n",
    "    push!(futures_planscoupants, @spawn plans_coupantsALG(name_instance, \"no_symmetry\", \"with initial values\", end_time))\n",
    "end\n",
    "\n",
    "results = map(fetch, futures_planscoupants)"
   ]
  },
  {
   "cell_type": "code",
   "execution_count": 54,
   "metadata": {},
   "outputs": [],
   "source": [
    "XLSX.openxlsx(\"results_planscoupants.xlsx\", mode=\"w\") do xf\n",
    "    sheet = xf[1]\n",
    "    XLSX.rename!(sheet, \"results\")\n",
    "    sheet[\"A1\"]=\"Instance\"\n",
    "    sheet[\"B1\"]=\"Temps\"\n",
    "    sheet[\"C1\"]=\"Solution\"\n",
    "    sheet[\"D1\"]=\"Meilleure solution\"\n",
    "    sheet[\"E1\"]=\"Borne inf\"\n",
    "    sheet[\"F1\"]=\"Coupes 23\"\n",
    "    sheet[\"G1\"]=\"Coupes 24\"\n",
    "    for i in 1:length(results)\n",
    "        sheet[\"A\"*string(i+1)]= results[i][1]\n",
    "        sheet[\"B\"*string(i+1)]= results[i][2]\n",
    "        sheet[\"C\"*string(i+1)]= join(string.(results[i][3]), \", \")\n",
    "        sheet[\"D\"*string(i+1)]= results[i][4]\n",
    "        sheet[\"E\"*string(i+1)]= results[i][5]\n",
    "        sheet[\"F\"*string(i+1)]= results[i][6]\n",
    "        sheet[\"G\"*string(i+1)]= results[i][7]\n",
    "    end\n",
    "end"
   ]
  }
 ],
 "metadata": {
  "kernelspec": {
   "display_name": "Julia 1.9.3",
   "language": "julia",
   "name": "julia-1.9"
  },
  "language_info": {
   "file_extension": ".jl",
   "mimetype": "application/julia",
   "name": "julia",
   "version": "1.9.3"
  }
 },
 "nbformat": 4,
 "nbformat_minor": 2
}
