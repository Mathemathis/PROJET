{
 "cells": [
  {
   "cell_type": "markdown",
   "metadata": {},
   "source": [
    "# Lecture données"
   ]
  },
  {
   "cell_type": "code",
   "execution_count": 1,
   "metadata": {},
   "outputs": [
    {
     "data": {
      "text/plain": [
       "read_file (generic function with 1 method)"
      ]
     },
     "metadata": {},
     "output_type": "display_data"
    }
   ],
   "source": [
    "function string_to_array(string_array)\n",
    "    string_array = replace(string_array, \"[\" => \"\")\n",
    "    string_array = replace(string_array, \"]\" => \"\")\n",
    "    sous_chaines = split(string_array, \",\")\n",
    "\n",
    "    return parse.(Int, sous_chaines)\n",
    "end\n",
    "\n",
    "function string_d_to_array(string_array)\n",
    "    string_array = replace(string_array, \";\" => \"\")\n",
    "    string_array = replace(string_array, \"]\" => \"\")\n",
    "    sous_chaines = split(string_array, \" \")\n",
    "\n",
    "    return parse.(Float64, sous_chaines)\n",
    "end\n",
    "\n",
    "function read_file(file)\n",
    "    if isfile(file)\n",
    "        myFile = open(file)\n",
    "        data = readlines(myFile)\n",
    "        n = parse(Int64, data[1][5:end])\n",
    "        s = parse(Int64, data[2][5:end])\n",
    "        t = parse(Int64, data[3][5:end])\n",
    "        S = parse(Int64, data[4][5:end])\n",
    "        d1 = parse(Int64, data[5][5:end])\n",
    "        d2 = parse(Int64, data[6][5:end])\n",
    "\n",
    "        p= string_to_array(data[7][5:end])\n",
    "        ph = string_to_array(data[8][5:end])\n",
    "\n",
    "        d=Dict()\n",
    "        D=Dict()\n",
    "        for line in data[10:end]\n",
    "            array_line=string_d_to_array(line)\n",
    "            i = Int(array_line[1])\n",
    "            j = Int(array_line[2])\n",
    "            d[i,j]=Int(array_line[3])\n",
    "            D[i,j]=array_line[4]\n",
    "        end\n",
    "        # Fermer le fichier\n",
    "        close(myFile)\n",
    "        return n, s, t, S, d1, d2, p, ph, d, D\n",
    "    end\n",
    "end"
   ]
  },
  {
   "cell_type": "code",
   "execution_count": 12,
   "metadata": {},
   "outputs": [
    {
     "data": {
      "text/plain": [
       "(2500, 88, 2088, 1571, 2, 13, [361, 189, 121, 122, 285, 212, 235, 361, 176, 189  …  19, 17, 23, 23, 23, 18, 8, 6, 5, 210], [4, 2, 1, 6, 8, 0, 3, 7, 1, 8  …  9, 0, 2, 2, 9, 10, 7, 3, 6, 7], Dict{Any, Any}((979, 69) => 1527, (1980, 1515) => 4237, (1758, 935) => 3726, (1218, 2439) => 1527, (2409, 424) => 1132, (24, 578) => 1453, (974, 821) => 4237, (84, 2333) => 860, (741, 1459) => 1861, (292, 966) => 1199…), Dict{Any, Any}((979, 69) => 0.15, (1980, 1515) => 0.41, (1758, 935) => 0.36, (1218, 2439) => 0.15, (2409, 424) => 0.11, (24, 578) => 0.14, (974, 821) => 0.41, (84, 2333) => 0.08, (741, 1459) => 0.18, (292, 966) => 0.12…))"
      ]
     },
     "metadata": {},
     "output_type": "display_data"
    }
   ],
   "source": [
    "n, s, t, S, d1, d2, p, ph, d, D = read_file(\"./data/2500_USA-road-d.COL.gr\")"
   ]
  },
  {
   "cell_type": "markdown",
   "metadata": {},
   "source": [
    "# PLNE compacte"
   ]
  },
  {
   "cell_type": "code",
   "execution_count": 15,
   "metadata": {},
   "outputs": [
    {
     "data": {
      "text/plain": [
       "plne_compacte (generic function with 1 method)"
      ]
     },
     "metadata": {},
     "output_type": "display_data"
    }
   ],
   "source": [
    "include(\"PLNE_compacte.jl\")"
   ]
  },
  {
   "cell_type": "code",
   "execution_count": 16,
   "metadata": {},
   "outputs": [],
   "source": [
    "plne_compacte(n, s, t, S, p, d,60)"
   ]
  },
  {
   "cell_type": "markdown",
   "metadata": {},
   "source": [
    "# Exercice 5"
   ]
  },
  {
   "cell_type": "code",
   "execution_count": 79,
   "metadata": {},
   "outputs": [
    {
     "name": "stdout",
     "output_type": "stream",
     "text": [
      "4\n",
      "23\n",
      "213\n",
      "1\n",
      "24\n",
      "5\n",
      "56\n",
      "23\n",
      "34\n",
      "9\n"
     ]
    },
    {
     "data": {
      "text/plain": [
       "1"
      ]
     },
     "metadata": {},
     "output_type": "display_data"
    }
   ],
   "source": [
    "function readN1(file)\n",
    "    # Si le fichier \"./data/test.txt\" existe\n",
    "    if isfile(file)\n",
    "        # L’ouvrir\n",
    "        myFile = open(file)\n",
    "        # Lire toutes les lignes d’un fichier\n",
    "        data = readlines(myFile)\n",
    "        # Pour chaque ligne du fichier\n",
    "        min=parse(Int64, data[1])\n",
    "        for line in data\n",
    "            # Afficher la ligne\n",
    "            println(line)\n",
    "            if parse(Int64, line)<min\n",
    "                min = parse(Int64, line)\n",
    "            end\n",
    "        end\n",
    "        # Fermer le fichier\n",
    "        close(myFile)\n",
    "        return min\n",
    "    end\n",
    "end\n",
    "\n",
    "readN1(\"./data/n1.txt\")"
   ]
  },
  {
   "cell_type": "code",
   "execution_count": 94,
   "metadata": {},
   "outputs": [
    {
     "data": {
      "text/plain": [
       "75"
      ]
     },
     "metadata": {},
     "output_type": "display_data"
    }
   ],
   "source": [
    "function readFile(path::String)\n",
    "    # Si le fichier \"./data/test.txt\" existe\n",
    "    if isfile(path)\n",
    "        # L’ouvrir\n",
    "        myFile = open(path)\n",
    "        # Lire toutes les lignes d’un fichier\n",
    "        data = readlines(myFile)\n",
    "        # Pour chaque ligne du fichier\n",
    "        max=0\n",
    "        flag=true\n",
    "        for line in data\n",
    "            for entier in split(line, \",\")\n",
    "                if rem(parse(Int64, entier), 5)==0\n",
    "                    if flag || parse(Int64, entier)>max\n",
    "                        max = parse(Int64, entier)\n",
    "                        flag=false\n",
    "                    end\n",
    "                end\n",
    "            end\n",
    "        end\n",
    "        # Fermer le fichier\n",
    "        close(myFile)\n",
    "        return max\n",
    "    end\n",
    "end\n",
    "\n",
    "readFile(\"./data/n2.txt\")"
   ]
  },
  {
   "cell_type": "code",
   "execution_count": 98,
   "metadata": {},
   "outputs": [
    {
     "name": "stdout",
     "output_type": "stream",
     "text": [
      "n1.txt\n",
      "v1.txt\n"
     ]
    }
   ],
   "source": [
    "function filenameswith1()\n",
    "    for file in readdir(\"./data\")\n",
    "        # Afficher le nom du fichier\n",
    "        if occursin(\"1\", file)\n",
    "            println(file)\n",
    "        end\n",
    "    end\n",
    "end   \n",
    "\n",
    "filenameswith1()"
   ]
  },
  {
   "cell_type": "code",
   "execution_count": 121,
   "metadata": {},
   "outputs": [
    {
     "data": {
      "text/plain": [
       "6786"
      ]
     },
     "metadata": {},
     "output_type": "display_data"
    }
   ],
   "source": [
    "function findMaxInDirectory()\n",
    "    max=0\n",
    "    flag=true\n",
    "    for path in readdir(\"./data\")\n",
    "        file= \"./data/\"*path\n",
    "        if isfile(file) && occursin(\"txt\",file)\n",
    "            myFile = open(file)\n",
    "            # Lire toutes les lignes d’un fichier\n",
    "            data = readlines(myFile)\n",
    "            for line in data\n",
    "                for entier in split(line, \",\")\n",
    "                    if flag || parse(Int64, entier)>max\n",
    "                        max = parse(Int64, entier)\n",
    "                        flag=false\n",
    "                    end\n",
    "                end\n",
    "            end\n",
    "            close(myFile)\n",
    "        end\n",
    "    end\n",
    "    # Ouvrir le fichier \"output.txt\" dans lequel on pourra écrire\n",
    "    res_file = open(\"resultat.txt\", \"w\")\n",
    "    # Ecrire \"test\" dans ce fichier\n",
    "    print(res_file, \"maxInFile = \"*string(max))\n",
    "    close(res_file)\n",
    "\n",
    "    return max\n",
    "end\n",
    "\n",
    "findMaxInDirectory()"
   ]
  },
  {
   "cell_type": "code",
   "execution_count": 108,
   "metadata": {},
   "outputs": [
    {
     "data": {
      "text/plain": [
       "\"./data/n2.txt2\""
      ]
     },
     "metadata": {},
     "output_type": "display_data"
    }
   ],
   "source": [
    "\"./data/n2.txt\"*\"2\""
   ]
  },
  {
   "cell_type": "markdown",
   "metadata": {},
   "source": [
    "# Exercice 6"
   ]
  },
  {
   "cell_type": "code",
   "execution_count": 181,
   "metadata": {},
   "outputs": [
    {
     "data": {
      "text/plain": [
       "sudoku (generic function with 1 method)"
      ]
     },
     "metadata": {},
     "output_type": "display_data"
    }
   ],
   "source": [
    "include(\"sudoku.jl\")"
   ]
  },
  {
   "cell_type": "code",
   "execution_count": 182,
   "metadata": {},
   "outputs": [
    {
     "name": "stdout",
     "output_type": "stream",
     "text": [
      "[9, 2, 4, 8, 1, 6, 5, 7, 3]\n",
      "[7, 6, 8, 4, 3, 5, 2, 9, 1]\n",
      "[3, 5, 1, 9, 2, 7, 4, 6, 8]\n",
      "[1, 4, 2, 5, 7, 8, 9, 3, 6]\n",
      "[5, 8, 9, 3, 6, 2, 1, 4, 7]\n",
      "[6, 3, 7, 1, 9, 4, 8, 2, 5]\n",
      "[4, 1, 3, 6, 8, 9, 7, 5, 2]\n",
      "[2, 9, 6, 7, 5, 1, 3, 8, 4]\n",
      "[8, 7, 5, 2, 4, 3, 6, 1, 9]\n"
     ]
    }
   ],
   "source": [
    "sudoku()"
   ]
  },
  {
   "cell_type": "markdown",
   "metadata": {},
   "source": [
    "# Exercice 7"
   ]
  },
  {
   "cell_type": "code",
   "execution_count": 12,
   "metadata": {},
   "outputs": [
    {
     "data": {
      "text/plain": [
       "isIntegerPoint (generic function with 1 method)"
      ]
     },
     "metadata": {},
     "output_type": "display_data"
    }
   ],
   "source": [
    "include(\"callback.jl\")"
   ]
  },
  {
   "cell_type": "code",
   "execution_count": 13,
   "metadata": {},
   "outputs": [
    {
     "name": "stdout",
     "output_type": "stream",
     "text": [
      "x\n",
      "Version identifier: 22.1.0.0 | 2022-03-09 | 1a383f8ce\r\n",
      "CPXPARAM_Threads                                 1\r\n",
      "Generic callback                                 0xfe\r\n",
      "Found incumbent of value 0.000000 after 0.06 sec. (0.00 ticks)\r\n",
      "Tried aggregator 1 time.\r\n",
      "MIP Presolve eliminated 1 rows and 0 columns.\r\n",
      "Reduced MIP has 0 rows, 1 columns, and 0 nonzeros.\r\n",
      "Reduced MIP has 0 binaries, 1 generals, 0 SOSs, and 0 indicators.\r\n",
      "Presolve time = 0.00 sec. (0.00 ticks)\r\n",
      "Tried aggregator 1 time.\r\n",
      "Reduced MIP has 0 rows, 1 columns, and 0 nonzeros.\r\n",
      "Reduced MIP has 0 binaries, 1 generals, 0 SOSs, and 0 indicators.\r\n",
      "Presolve time = 0.00 sec. (0.00 ticks)\r\n",
      "MIP emphasis: balance optimality and feasibility.\r\n",
      "MIP search method: dynamic search.\r\n",
      "Parallel mode: none, using 1 thread.\r\n",
      "Root relaxation solution time = 0.00 sec. (0.00 ticks)\r\n",
      "\r\n",
      "        Nodes                                         Cuts/\r\n",
      "   Node  Left     Objective  IInf  Best Integer    Best Bound    ItCnt     Gap\r\n",
      "\r\n",
      "*     0+    0                            0.0000       10.0000              --- \r\n",
      "x"
     ]
    },
    {
     "name": "stdout",
     "output_type": "stream",
     "text": [
      "\n",
      "Add constraint x <= 1\n",
      "x\n",
      "*     0     0      integral     0        1.0000       10.0000        0  900.00%\r\n",
      "Elapsed time = 0.14 sec. (0.00 ticks, tree = 0.00 MB, solutions = 2)\r\n"
     ]
    }
   ],
   "source": [
    "callbackMain()"
   ]
  },
  {
   "cell_type": "markdown",
   "metadata": {},
   "source": [
    "# Exercice 8"
   ]
  },
  {
   "cell_type": "code",
   "execution_count": 9,
   "metadata": {},
   "outputs": [
    {
     "data": {
      "text/plain": [
       "clustering (generic function with 1 method)"
      ]
     },
     "metadata": {},
     "output_type": "display_data"
    }
   ],
   "source": [
    "include(\"partitionnement.jl\")"
   ]
  },
  {
   "cell_type": "code",
   "execution_count": 20,
   "metadata": {},
   "outputs": [
    {
     "name": "stdout",
     "output_type": "stream",
     "text": [
      "n = 22"
     ]
    },
    {
     "name": "stdout",
     "output_type": "stream",
     "text": [
      "\n",
      "Valeur de l’objectif : 11092.0\n",
      "4.944000005722046\n",
      "1053\n"
     ]
    }
   ],
   "source": [
    "include(\"partitionnement.jl\")\n",
    "clustering(\"./clustering/clustering_data22.txt\")"
   ]
  }
 ],
 "metadata": {
  "kernelspec": {
   "display_name": "Julia 1.9.3",
   "language": "julia",
   "name": "julia-1.9"
  },
  "language_info": {
   "file_extension": ".jl",
   "mimetype": "application/julia",
   "name": "julia",
   "version": "1.9.3"
  }
 },
 "nbformat": 4,
 "nbformat_minor": 2
}
