{
 "cells": [
  {
   "cell_type": "markdown",
   "metadata": {},
   "source": [
    "# Lecture données"
   ]
  },
  {
   "cell_type": "code",
   "execution_count": 8,
   "metadata": {},
   "outputs": [
    {
     "data": {
      "text/plain": [
       "read_file (generic function with 1 method)"
      ]
     },
     "metadata": {},
     "output_type": "display_data"
    }
   ],
   "source": [
    "function string_to_array(string_array)\n",
    "    string_array = replace(string_array, \"[\" => \"\")\n",
    "    string_array = replace(string_array, \"]\" => \"\")\n",
    "    sous_chaines = split(string_array, \",\")\n",
    "\n",
    "    return parse.(Int, sous_chaines)\n",
    "end\n",
    "\n",
    "function string_d_to_array(string_array)\n",
    "    string_array = replace(string_array, \";\" => \"\")\n",
    "    string_array = replace(string_array, \"]\" => \"\")\n",
    "    sous_chaines = split(string_array, \" \")\n",
    "\n",
    "    return parse.(Float64, sous_chaines)\n",
    "end\n",
    "\n",
    "function read_file(file)\n",
    "    if isfile(file)\n",
    "        myFile = open(file)\n",
    "        data = readlines(myFile)\n",
    "        n = parse(Int64, data[1][5:end])\n",
    "        s = parse(Int64, data[2][5:end])\n",
    "        t = parse(Int64, data[3][5:end])\n",
    "        S = parse(Int64, data[4][5:end])\n",
    "        d1 = parse(Int64, data[5][5:end])\n",
    "        d2 = parse(Int64, data[6][5:end])\n",
    "\n",
    "        p= string_to_array(data[7][5:end])\n",
    "        ph = string_to_array(data[8][5:end])\n",
    "\n",
    "        d=Dict()\n",
    "        D=Dict()\n",
    "        for line in data[10:end]\n",
    "            array_line=string_d_to_array(line)\n",
    "            i = Int(array_line[1])\n",
    "            j = Int(array_line[2])\n",
    "            d[i,j]=Int(array_line[3])\n",
    "            D[i,j]=array_line[4]\n",
    "        end\n",
    "        # Fermer le fichier\n",
    "        close(myFile)\n",
    "        return n, s, t, S, d1, d2, p, ph, d, D\n",
    "    end\n",
    "end"
   ]
  },
  {
   "cell_type": "code",
   "execution_count": 9,
   "metadata": {},
   "outputs": [
    {
     "data": {
      "text/plain": [
       "(600, 269, 588, 651, 2, 13, [160, 59, 83, 100, 104, 100, 76, 50, 160, 73  …  45, 62, 50, 11, 9, 16, 9, 100, 19, 7], [1, 1, 1, 1, 1, 1, 1, 1, 1, 1  …  1, 1, 1, 1, 1, 1, 1, 1, 1, 1], Dict{Any, Any}((129, 346) => 3233, (256, 564) => 1149, (17, 12) => 3179, (506, 449) => 2478, (264, 337) => 1329, (265, 372) => 2539, (320, 377) => 3233, (132, 140) => 439, (306, 106) => 1329, (22, 9) => 1378…), Dict{Any, Any}((129, 346) => 0.33, (256, 564) => 0.18, (17, 12) => 0.32, (506, 449) => 0.25, (264, 337) => 0.2, (265, 372) => 0.26, (320, 377) => 0.33, (132, 140) => 0.04, (306, 106) => 0.2, (22, 9) => 0.14…))"
      ]
     },
     "metadata": {},
     "output_type": "display_data"
    }
   ],
   "source": [
    "n, s, t, S, d1, d2, p, ph, d, D = read_file(\"./data/600_USA-road-d.BAY.gr\")"
   ]
  },
  {
   "cell_type": "code",
   "execution_count": 10,
   "metadata": {},
   "outputs": [
    {
     "data": {
      "text/plain": [
       "31916-element Vector{Float64}:\n",
       " 0.33\n",
       " 0.18\n",
       " 0.32\n",
       " 0.25\n",
       " 0.2\n",
       " 0.26\n",
       " 0.33\n",
       " 0.04\n",
       " 0.2\n",
       " 0.14\n",
       " ⋮\n",
       " 0.33\n",
       " 0.04\n",
       " 0.25\n",
       " 0.23\n",
       " 0.14\n",
       " 0.15\n",
       " 0.27\n",
       " 0.25\n",
       " 0.27"
      ]
     },
     "metadata": {},
     "output_type": "display_data"
    }
   ],
   "source": [
    "Dh=[D[key] for key in collect(keys(D))]"
   ]
  },
  {
   "cell_type": "code",
   "execution_count": 11,
   "metadata": {},
   "outputs": [
    {
     "data": {
      "text/plain": [
       "Dict{Any, Any} with 31916 entries:\n",
       "  (129, 346) => 0.33\n",
       "  (256, 564) => 0.18\n",
       "  (17, 12)   => 0.32\n",
       "  (506, 449) => 0.25\n",
       "  (264, 337) => 0.2\n",
       "  (265, 372) => 0.26\n",
       "  (320, 377) => 0.33\n",
       "  (132, 140) => 0.04\n",
       "  (306, 106) => 0.2\n",
       "  (22, 9)    => 0.14\n",
       "  (353, 304) => 0.28\n",
       "  (72, 437)  => 0.29\n",
       "  (541, 3)   => 0.08\n",
       "  (245, 28)  => 0.09\n",
       "  (557, 162) => 0.25\n",
       "  (225, 4)   => 0.25\n",
       "  (412, 365) => 0.94\n",
       "  (30, 23)   => 0.25\n",
       "  (52, 193)  => 0.3\n",
       "  ⋮          => ⋮"
      ]
     },
     "metadata": {},
     "output_type": "display_data"
    }
   ],
   "source": [
    "D"
   ]
  },
  {
   "cell_type": "markdown",
   "metadata": {},
   "source": [
    "# PLNE compacte"
   ]
  },
  {
   "cell_type": "code",
   "execution_count": 12,
   "metadata": {},
   "outputs": [
    {
     "data": {
      "text/plain": [
       "plne_compacte (generic function with 1 method)"
      ]
     },
     "metadata": {},
     "output_type": "display_data"
    }
   ],
   "source": [
    "include(\"PLNE_compacte.jl\")"
   ]
  },
  {
   "cell_type": "code",
   "execution_count": 13,
   "metadata": {},
   "outputs": [],
   "source": [
    "plne_compacte(n, s, t, S, p, d,60)"
   ]
  },
  {
   "cell_type": "markdown",
   "metadata": {},
   "source": [
    "# PLNE dualisation"
   ]
  },
  {
   "cell_type": "code",
   "execution_count": 14,
   "metadata": {},
   "outputs": [
    {
     "data": {
      "text/plain": [
       "check_dual_objective (generic function with 1 method)"
      ]
     },
     "metadata": {},
     "output_type": "display_data"
    }
   ],
   "source": [
    "include(\"PLNE_dual.jl\")"
   ]
  },
  {
   "cell_type": "code",
   "execution_count": 15,
   "metadata": {},
   "outputs": [
    {
     "data": {
      "text/plain": [
       "(  [129, 346]  =  -0.0\n",
       "  [163, 503]  =  -0.0\n",
       "  [17, 12  ]  =  -0.0\n",
       "  [206, 298]  =  -0.0\n",
       "  [256, 564]  =  -0.0\n",
       "  [264, 337]  =  -0.0\n",
       "  [265, 372]  =  -0.0\n",
       "  [320, 377]  =  -0.0\n",
       "              ⋮\n",
       "  [354, 56 ]  =  -0.0\n",
       "  [461, 355]  =  -0.0\n",
       "  [506, 449]  =  -0.0\n",
       "  [516, 36 ]  =  -0.0\n",
       "  [587, 240]  =  -0.0\n",
       "  [85, 414 ]  =  -0.0\n",
       "  [96, 142 ]  =  -0.0, [0.0, -0.0, 0.0, -0.0, -0.0, -0.0, 0.0, -0.0, 0.0, -0.0  …  0.0, -0.0, -0.0, 0.0, -0.0, -0.0, -0.0, 0.0, -0.0, -0.0], [0.0, 0.0, 0.0, 0.0, 0.0, 0.0, 0.0, 0.0, 0.0, 0.0  …  0.0, 0.0, 0.0, 0.0, 0.0, 0.0, 0.0, 0.0, 0.0, 0.0], 0.0)"
      ]
     },
     "metadata": {},
     "output_type": "display_data"
    }
   ],
   "source": [
    "results=plne_dual(n, s, t, S, d1, d2, p, ph, d, D, 60)"
   ]
  },
  {
   "cell_type": "code",
   "execution_count": 19,
   "metadata": {},
   "outputs": [
    {
     "data": {
      "text/plain": [
       "branchAndCut (generic function with 1 method)"
      ]
     },
     "metadata": {},
     "output_type": "display_data"
    }
   ],
   "source": [
    "include(\"branch_cut.jl\")"
   ]
  },
  {
   "cell_type": "code",
   "execution_count": null,
   "metadata": {},
   "outputs": [],
   "source": []
  }
 ],
 "metadata": {
  "kernelspec": {
   "display_name": "Julia 1.10.0",
   "language": "julia",
   "name": "julia-1.10"
  },
  "language_info": {
   "file_extension": ".jl",
   "mimetype": "application/julia",
   "name": "julia",
   "version": "1.10.0"
  }
 },
 "nbformat": 4,
 "nbformat_minor": 2
}
